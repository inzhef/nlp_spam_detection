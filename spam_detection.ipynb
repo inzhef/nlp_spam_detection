{
 "cells": [
  {
   "cell_type": "code",
   "execution_count": 1,
   "id": "51569e36",
   "metadata": {},
   "outputs": [],
   "source": [
    "import pandas as pd\n",
    "import seaborn as sns\n",
    "import matplotlib.pyplot as plt"
   ]
  },
  {
   "cell_type": "code",
   "execution_count": 2,
   "id": "c31e7d36",
   "metadata": {},
   "outputs": [
    {
     "data": {
      "text/html": [
       "<div>\n",
       "<style scoped>\n",
       "    .dataframe tbody tr th:only-of-type {\n",
       "        vertical-align: middle;\n",
       "    }\n",
       "\n",
       "    .dataframe tbody tr th {\n",
       "        vertical-align: top;\n",
       "    }\n",
       "\n",
       "    .dataframe thead tr th {\n",
       "        text-align: left;\n",
       "    }\n",
       "\n",
       "    .dataframe thead tr:last-of-type th {\n",
       "        text-align: right;\n",
       "    }\n",
       "</style>\n",
       "<table border=\"1\" class=\"dataframe\">\n",
       "  <thead>\n",
       "    <tr>\n",
       "      <th></th>\n",
       "      <th colspan=\"4\" halign=\"left\">Message</th>\n",
       "    </tr>\n",
       "    <tr>\n",
       "      <th></th>\n",
       "      <th>count</th>\n",
       "      <th>unique</th>\n",
       "      <th>top</th>\n",
       "      <th>freq</th>\n",
       "    </tr>\n",
       "    <tr>\n",
       "      <th>Category</th>\n",
       "      <th></th>\n",
       "      <th></th>\n",
       "      <th></th>\n",
       "      <th></th>\n",
       "    </tr>\n",
       "  </thead>\n",
       "  <tbody>\n",
       "    <tr>\n",
       "      <th>ham</th>\n",
       "      <td>4825</td>\n",
       "      <td>4516</td>\n",
       "      <td>Sorry, I'll call later</td>\n",
       "      <td>30</td>\n",
       "    </tr>\n",
       "    <tr>\n",
       "      <th>spam</th>\n",
       "      <td>747</td>\n",
       "      <td>641</td>\n",
       "      <td>Please call our customer service representativ...</td>\n",
       "      <td>4</td>\n",
       "    </tr>\n",
       "  </tbody>\n",
       "</table>\n",
       "</div>"
      ],
      "text/plain": [
       "         Message                                                            \\\n",
       "           count unique                                                top   \n",
       "Category                                                                     \n",
       "ham         4825   4516                             Sorry, I'll call later   \n",
       "spam         747    641  Please call our customer service representativ...   \n",
       "\n",
       "               \n",
       "         freq  \n",
       "Category       \n",
       "ham        30  \n",
       "spam        4  "
      ]
     },
     "execution_count": 2,
     "metadata": {},
     "output_type": "execute_result"
    }
   ],
   "source": [
    "df = pd.read_csv(\"spam.csv\")\n",
    "df.groupby('Category').describe()"
   ]
  },
  {
   "cell_type": "code",
   "execution_count": 3,
   "id": "e335f237",
   "metadata": {},
   "outputs": [
    {
     "data": {
      "text/plain": [
       "(747, 2)"
      ]
     },
     "execution_count": 3,
     "metadata": {},
     "output_type": "execute_result"
    }
   ],
   "source": [
    "df_spam = df[df['Category']=='spam']\n",
    "df_spam.shape"
   ]
  },
  {
   "cell_type": "code",
   "execution_count": 4,
   "id": "e7b5db6a",
   "metadata": {},
   "outputs": [
    {
     "data": {
      "text/plain": [
       "(4825, 2)"
      ]
     },
     "execution_count": 4,
     "metadata": {},
     "output_type": "execute_result"
    }
   ],
   "source": [
    "df_ham = df[df['Category']=='ham']\n",
    "df_ham.shape\n"
   ]
  },
  {
   "cell_type": "markdown",
   "id": "ca5f7701",
   "metadata": {},
   "source": [
    "Downsampling to create a more balanced dataset."
   ]
  },
  {
   "cell_type": "code",
   "execution_count": 5,
   "id": "4e99033c",
   "metadata": {},
   "outputs": [
    {
     "data": {
      "text/plain": [
       "(747, 2)"
      ]
     },
     "execution_count": 5,
     "metadata": {},
     "output_type": "execute_result"
    }
   ],
   "source": [
    "df_ham_downsampled = df_ham.sample(df_spam.shape[0])\n",
    "df_ham_downsampled.shape"
   ]
  },
  {
   "cell_type": "code",
   "execution_count": 6,
   "id": "912b3d67",
   "metadata": {},
   "outputs": [
    {
     "data": {
      "text/plain": [
       "ham     747\n",
       "spam    747\n",
       "Name: Category, dtype: int64"
      ]
     },
     "execution_count": 6,
     "metadata": {},
     "output_type": "execute_result"
    }
   ],
   "source": [
    "df_balanced = pd.concat([df_ham_downsampled, df_spam])\n",
    "\n",
    "#drop the older index\n",
    "df_balanced=df_balanced.reset_index()\n",
    "df_balanced=df_balanced.drop(\n",
    "    columns=[\"index\"],\n",
    ")\n",
    "\n",
    "df_balanced['Category'].value_counts()"
   ]
  },
  {
   "cell_type": "code",
   "execution_count": 7,
   "id": "f72b9748",
   "metadata": {},
   "outputs": [
    {
     "data": {
      "text/html": [
       "<div>\n",
       "<style scoped>\n",
       "    .dataframe tbody tr th:only-of-type {\n",
       "        vertical-align: middle;\n",
       "    }\n",
       "\n",
       "    .dataframe tbody tr th {\n",
       "        vertical-align: top;\n",
       "    }\n",
       "\n",
       "    .dataframe thead th {\n",
       "        text-align: right;\n",
       "    }\n",
       "</style>\n",
       "<table border=\"1\" class=\"dataframe\">\n",
       "  <thead>\n",
       "    <tr style=\"text-align: right;\">\n",
       "      <th></th>\n",
       "      <th>Message</th>\n",
       "      <th>spam</th>\n",
       "    </tr>\n",
       "  </thead>\n",
       "  <tbody>\n",
       "    <tr>\n",
       "      <th>1031</th>\n",
       "      <td>Call 09094100151 to use ur mins! Calls cast 10...</td>\n",
       "      <td>1</td>\n",
       "    </tr>\n",
       "    <tr>\n",
       "      <th>962</th>\n",
       "      <td>SMS. ac JSco: Energy is high, but u may not kn...</td>\n",
       "      <td>1</td>\n",
       "    </tr>\n",
       "    <tr>\n",
       "      <th>805</th>\n",
       "      <td>FREE RINGTONE text FIRST to 87131 for a poly o...</td>\n",
       "      <td>1</td>\n",
       "    </tr>\n",
       "    <tr>\n",
       "      <th>254</th>\n",
       "      <td>K, fyi I'm back in my parents' place in south ...</td>\n",
       "      <td>0</td>\n",
       "    </tr>\n",
       "    <tr>\n",
       "      <th>288</th>\n",
       "      <td>What is the plural of the noun research?</td>\n",
       "      <td>0</td>\n",
       "    </tr>\n",
       "  </tbody>\n",
       "</table>\n",
       "</div>"
      ],
      "text/plain": [
       "                                                Message  spam\n",
       "1031  Call 09094100151 to use ur mins! Calls cast 10...     1\n",
       "962   SMS. ac JSco: Energy is high, but u may not kn...     1\n",
       "805   FREE RINGTONE text FIRST to 87131 for a poly o...     1\n",
       "254   K, fyi I'm back in my parents' place in south ...     0\n",
       "288            What is the plural of the noun research?     0"
      ]
     },
     "execution_count": 7,
     "metadata": {},
     "output_type": "execute_result"
    }
   ],
   "source": [
    "df_balanced['spam']=df_balanced['Category'].apply(lambda x: 1 if x=='spam' else 0)\n",
    "df_balanced = df_balanced.drop(\"Category\",axis=1)\n",
    "df_balanced.sample(5)"
   ]
  },
  {
   "cell_type": "code",
   "execution_count": 8,
   "id": "c7ff74a5",
   "metadata": {},
   "outputs": [
    {
     "name": "stderr",
     "output_type": "stream",
     "text": [
      "[nltk_data] Downloading package stopwords to\n",
      "[nltk_data]     C:\\Users\\ferry\\AppData\\Roaming\\nltk_data...\n",
      "[nltk_data]   Package stopwords is already up-to-date!\n",
      "[nltk_data] Downloading package punkt to\n",
      "[nltk_data]     C:\\Users\\ferry\\AppData\\Roaming\\nltk_data...\n",
      "[nltk_data]   Package punkt is already up-to-date!\n"
     ]
    }
   ],
   "source": [
    "import re\n",
    "import nltk\n",
    "nltk.download('stopwords')\n",
    "nltk.download('punkt')\n",
    "from nltk.corpus import stopwords\n",
    "from nltk.stem import PorterStemmer"
   ]
  },
  {
   "cell_type": "markdown",
   "id": "3081d9c7",
   "metadata": {},
   "source": [
    "Text Preprocessing"
   ]
  },
  {
   "cell_type": "code",
   "execution_count": 9,
   "id": "32e43598",
   "metadata": {},
   "outputs": [],
   "source": [
    "stemmer=PorterStemmer()\n",
    "corpus=[]\n",
    "\n",
    "for message in df_balanced[\"Message\"]:          \n",
    "    message=re.sub(\"[^a-zA-Z0-9]\",\" \",message)#replace non-alphanumeric with space        \n",
    "    message=message.lower()#convert every words to its lowercase    \n",
    "    message=message.split()#split the word into individual word list\n",
    "    \n",
    "    #perform stemming\n",
    "    message=[stemmer.stem(words) for words in message if words not in set(stopwords.words(\"english\"))]   \n",
    "    message=\" \".join(message) #join the word lists with the whitespace\n",
    "    corpus.append(message)"
   ]
  },
  {
   "cell_type": "code",
   "execution_count": 10,
   "id": "450132b2",
   "metadata": {},
   "outputs": [],
   "source": [
    "from tensorflow.keras.preprocessing.text import one_hot\n",
    "\n",
    "vocab_size=10000\n",
    "oneHot_doc=[one_hot(words,n=vocab_size) for words in corpus]"
   ]
  },
  {
   "cell_type": "code",
   "execution_count": 11,
   "id": "ad1f95b7",
   "metadata": {},
   "outputs": [
    {
     "data": {
      "image/png": "[encoded data removed]",
      "text/plain": [
       "<Figure size 864x576 with 1 Axes>"
      ]
     },
     "metadata": {
      "needs_background": "light"
     },
     "output_type": "display_data"
    }
   ],
   "source": [
    "df_balanced[\"Message Length\"]=df_balanced[\"Message\"].apply(len)\n",
    "\n",
    "fig=plt.figure(figsize=(12,8))\n",
    "sns.histplot(x=df_balanced[\"Message Length\"],hue=df_balanced[\"spam\"])\n",
    "plt.title(\"ham & spam message length comparision\")\n",
    "plt.show()"
   ]
  },
  {
   "cell_type": "markdown",
   "id": "308aeb8b",
   "metadata": {},
   "source": [
    "We will choose 200 lengths because of the plot range. We can see all messages concentrated from 0 to 200."
   ]
  },
  {
   "cell_type": "code",
   "execution_count": 12,
   "id": "d8f8fd82",
   "metadata": {},
   "outputs": [],
   "source": [
    "from tensorflow.keras.preprocessing.sequence import pad_sequences\n",
    "sentence_len=200\n",
    "embedded_doc=pad_sequences(\n",
    "    oneHot_doc,\n",
    "    maxlen=sentence_len,\n",
    "    padding=\"pre\"\n",
    ")"
   ]
  },
  {
   "cell_type": "code",
   "execution_count": 13,
   "id": "6f74586f",
   "metadata": {},
   "outputs": [
    {
     "data": {
      "text/html": [
       "<div>\n",
       "<style scoped>\n",
       "    .dataframe tbody tr th:only-of-type {\n",
       "        vertical-align: middle;\n",
       "    }\n",
       "\n",
       "    .dataframe tbody tr th {\n",
       "        vertical-align: top;\n",
       "    }\n",
       "\n",
       "    .dataframe thead th {\n",
       "        text-align: right;\n",
       "    }\n",
       "</style>\n",
       "<table border=\"1\" class=\"dataframe\">\n",
       "  <thead>\n",
       "    <tr style=\"text-align: right;\">\n",
       "      <th></th>\n",
       "      <th>0</th>\n",
       "      <th>1</th>\n",
       "      <th>2</th>\n",
       "      <th>3</th>\n",
       "      <th>4</th>\n",
       "      <th>5</th>\n",
       "      <th>6</th>\n",
       "      <th>7</th>\n",
       "      <th>8</th>\n",
       "      <th>9</th>\n",
       "      <th>...</th>\n",
       "      <th>191</th>\n",
       "      <th>192</th>\n",
       "      <th>193</th>\n",
       "      <th>194</th>\n",
       "      <th>195</th>\n",
       "      <th>196</th>\n",
       "      <th>197</th>\n",
       "      <th>198</th>\n",
       "      <th>199</th>\n",
       "      <th>spam</th>\n",
       "    </tr>\n",
       "  </thead>\n",
       "  <tbody>\n",
       "    <tr>\n",
       "      <th>0</th>\n",
       "      <td>0</td>\n",
       "      <td>0</td>\n",
       "      <td>0</td>\n",
       "      <td>0</td>\n",
       "      <td>0</td>\n",
       "      <td>0</td>\n",
       "      <td>0</td>\n",
       "      <td>0</td>\n",
       "      <td>0</td>\n",
       "      <td>0</td>\n",
       "      <td>...</td>\n",
       "      <td>0</td>\n",
       "      <td>0</td>\n",
       "      <td>0</td>\n",
       "      <td>0</td>\n",
       "      <td>0</td>\n",
       "      <td>0</td>\n",
       "      <td>9723</td>\n",
       "      <td>9602</td>\n",
       "      <td>7085</td>\n",
       "      <td>0</td>\n",
       "    </tr>\n",
       "    <tr>\n",
       "      <th>1</th>\n",
       "      <td>0</td>\n",
       "      <td>0</td>\n",
       "      <td>0</td>\n",
       "      <td>0</td>\n",
       "      <td>0</td>\n",
       "      <td>0</td>\n",
       "      <td>0</td>\n",
       "      <td>0</td>\n",
       "      <td>0</td>\n",
       "      <td>0</td>\n",
       "      <td>...</td>\n",
       "      <td>5200</td>\n",
       "      <td>448</td>\n",
       "      <td>448</td>\n",
       "      <td>8175</td>\n",
       "      <td>5837</td>\n",
       "      <td>136</td>\n",
       "      <td>5761</td>\n",
       "      <td>4311</td>\n",
       "      <td>235</td>\n",
       "      <td>0</td>\n",
       "    </tr>\n",
       "    <tr>\n",
       "      <th>2</th>\n",
       "      <td>0</td>\n",
       "      <td>0</td>\n",
       "      <td>0</td>\n",
       "      <td>0</td>\n",
       "      <td>0</td>\n",
       "      <td>0</td>\n",
       "      <td>0</td>\n",
       "      <td>0</td>\n",
       "      <td>0</td>\n",
       "      <td>0</td>\n",
       "      <td>...</td>\n",
       "      <td>0</td>\n",
       "      <td>0</td>\n",
       "      <td>0</td>\n",
       "      <td>0</td>\n",
       "      <td>0</td>\n",
       "      <td>0</td>\n",
       "      <td>6052</td>\n",
       "      <td>5429</td>\n",
       "      <td>1153</td>\n",
       "      <td>0</td>\n",
       "    </tr>\n",
       "    <tr>\n",
       "      <th>3</th>\n",
       "      <td>0</td>\n",
       "      <td>0</td>\n",
       "      <td>0</td>\n",
       "      <td>0</td>\n",
       "      <td>0</td>\n",
       "      <td>0</td>\n",
       "      <td>0</td>\n",
       "      <td>0</td>\n",
       "      <td>0</td>\n",
       "      <td>0</td>\n",
       "      <td>...</td>\n",
       "      <td>6555</td>\n",
       "      <td>4506</td>\n",
       "      <td>7626</td>\n",
       "      <td>3555</td>\n",
       "      <td>5620</td>\n",
       "      <td>8702</td>\n",
       "      <td>6555</td>\n",
       "      <td>4506</td>\n",
       "      <td>7626</td>\n",
       "      <td>0</td>\n",
       "    </tr>\n",
       "    <tr>\n",
       "      <th>4</th>\n",
       "      <td>0</td>\n",
       "      <td>0</td>\n",
       "      <td>0</td>\n",
       "      <td>0</td>\n",
       "      <td>0</td>\n",
       "      <td>0</td>\n",
       "      <td>0</td>\n",
       "      <td>0</td>\n",
       "      <td>0</td>\n",
       "      <td>0</td>\n",
       "      <td>...</td>\n",
       "      <td>0</td>\n",
       "      <td>0</td>\n",
       "      <td>0</td>\n",
       "      <td>0</td>\n",
       "      <td>0</td>\n",
       "      <td>0</td>\n",
       "      <td>5997</td>\n",
       "      <td>117</td>\n",
       "      <td>4743</td>\n",
       "      <td>0</td>\n",
       "    </tr>\n",
       "  </tbody>\n",
       "</table>\n",
       "<p>5 rows × 201 columns</p>\n",
       "</div>"
      ],
      "text/plain": [
       "   0  1  2  3  4  5  6  7  8  9  ...   191   192   193   194   195   196  \\\n",
       "0  0  0  0  0  0  0  0  0  0  0  ...     0     0     0     0     0     0   \n",
       "1  0  0  0  0  0  0  0  0  0  0  ...  5200   448   448  8175  5837   136   \n",
       "2  0  0  0  0  0  0  0  0  0  0  ...     0     0     0     0     0     0   \n",
       "3  0  0  0  0  0  0  0  0  0  0  ...  6555  4506  7626  3555  5620  8702   \n",
       "4  0  0  0  0  0  0  0  0  0  0  ...     0     0     0     0     0     0   \n",
       "\n",
       "    197   198   199  spam  \n",
       "0  9723  9602  7085     0  \n",
       "1  5761  4311   235     0  \n",
       "2  6052  5429  1153     0  \n",
       "3  6555  4506  7626     0  \n",
       "4  5997   117  4743     0  \n",
       "\n",
       "[5 rows x 201 columns]"
      ]
     },
     "execution_count": 13,
     "metadata": {},
     "output_type": "execute_result"
    }
   ],
   "source": [
    "extract_features=pd.DataFrame(data=embedded_doc)\n",
    "target=df_balanced[\"spam\"]\n",
    "\n",
    "df_final=pd.concat([extract_features,df_balanced['spam']],axis=1)\n",
    "df_final.head()"
   ]
  },
  {
   "cell_type": "code",
   "execution_count": 17,
   "id": "41032a25",
   "metadata": {},
   "outputs": [],
   "source": [
    "X=df_final.drop(\"spam\",axis=1)\n",
    "y=df_final[\"spam\"]\n",
    "\n",
    "from sklearn.model_selection import train_test_split\n",
    "\n",
    "X_trainval,X_test,y_trainval,y_test=train_test_split(X, y, random_state=42, test_size=0.15)\n",
    "\n",
    "X_train,X_val,y_train,y_val=train_test_split(X_trainval, y_trainval, random_state=42, test_size=0.15)"
   ]
  },
  {
   "cell_type": "markdown",
   "id": "39efa360",
   "metadata": {},
   "source": [
    "Create and fit the LSTM network"
   ]
  },
  {
   "cell_type": "code",
   "execution_count": 22,
   "id": "c3088ac0",
   "metadata": {},
   "outputs": [
    {
     "name": "stdout",
     "output_type": "stream",
     "text": [
      "Epoch 1/10\n",
      "34/34 [==============================] - 21s 462ms/step - loss: 0.5409 - accuracy: 0.7161 - val_loss: 0.4844 - val_accuracy: 0.7539\n",
      "Epoch 2/10\n",
      "34/34 [==============================] - 14s 416ms/step - loss: 0.3116 - accuracy: 0.9276 - val_loss: 0.1749 - val_accuracy: 0.9476\n",
      "Epoch 3/10\n",
      "34/34 [==============================] - 13s 383ms/step - loss: 0.1007 - accuracy: 0.9703 - val_loss: 0.1224 - val_accuracy: 0.9529\n",
      "Epoch 4/10\n",
      "34/34 [==============================] - 14s 414ms/step - loss: 0.0523 - accuracy: 0.9889 - val_loss: 0.1072 - val_accuracy: 0.9634\n",
      "Epoch 5/10\n",
      "34/34 [==============================] - 14s 421ms/step - loss: 0.0318 - accuracy: 0.9935 - val_loss: 0.1171 - val_accuracy: 0.9476\n",
      "Epoch 6/10\n",
      "34/34 [==============================] - 15s 431ms/step - loss: 0.0229 - accuracy: 0.9954 - val_loss: 0.1141 - val_accuracy: 0.9634\n",
      "Epoch 7/10\n",
      "34/34 [==============================] - 14s 425ms/step - loss: 0.0162 - accuracy: 0.9954 - val_loss: 0.1280 - val_accuracy: 0.9476\n",
      "Epoch 8/10\n",
      "34/34 [==============================] - 15s 434ms/step - loss: 0.0105 - accuracy: 0.9972 - val_loss: 0.1342 - val_accuracy: 0.9581\n",
      "Epoch 9/10\n",
      "34/34 [==============================] - 14s 429ms/step - loss: 0.0071 - accuracy: 0.9972 - val_loss: 0.1448 - val_accuracy: 0.9581\n",
      "Epoch 10/10\n",
      "34/34 [==============================] - 15s 434ms/step - loss: 0.0052 - accuracy: 0.9972 - val_loss: 0.1561 - val_accuracy: 0.9581\n",
      "8/8 [==============================] - 2s 131ms/step\n"
     ]
    }
   ],
   "source": [
    "from tensorflow.keras.layers import LSTM\n",
    "from tensorflow.keras.layers import Dense\n",
    "from tensorflow.keras.layers import Embedding\n",
    "from tensorflow.keras.models import Sequential\n",
    "from tensorflow.keras.optimizers import Adam\n",
    "\n",
    "feature_num=100\n",
    "model=Sequential()\n",
    "model.add(Embedding(input_dim=vocab_size, output_dim=feature_num, input_length=sentence_len))\n",
    "model.add(LSTM(units=128))\n",
    "model.add(Dense(units=1, activation=\"sigmoid\"))\n",
    "model.compile(optimizer=Adam(learning_rate=0.001), loss=\"binary_crossentropy\", metrics=[\"accuracy\"])\n",
    "\n",
    "model.fit(X_train, y_train, validation_data=(X_val, y_val), epochs=10)\n",
    "y_pred=model.predict(X_test)\n",
    "y_pred=(y_pred>0.5)\n"
   ]
  },
  {
   "cell_type": "code",
   "execution_count": 23,
   "id": "6adaa1ef",
   "metadata": {},
   "outputs": [
    {
     "name": "stdout",
     "output_type": "stream",
     "text": [
      "Test Score:96.44%\n"
     ]
    }
   ],
   "source": [
    "from sklearn.metrics import accuracy_score,confusion_matrix\n",
    "\n",
    "score=accuracy_score(y_test,y_pred)\n",
    "print(\"Test Score:{:.2f}%\".format(score*100))"
   ]
  },
  {
   "cell_type": "code",
   "execution_count": 24,
   "id": "2e16f841",
   "metadata": {},
   "outputs": [
    {
     "data": {
      "text/plain": [
       "Text(0.5, 1.0, 'Confusion Matrix')"
      ]
     },
     "execution_count": 24,
     "metadata": {},
     "output_type": "execute_result"
    },
    {
     "data": {
      "image/png": "[encoded data removed]",
      "text/plain": [
       "<Figure size 864x576 with 2 Axes>"
      ]
     },
     "metadata": {
      "needs_background": "light"
     },
     "output_type": "display_data"
    }
   ],
   "source": [
    "cm=confusion_matrix(y_test,y_pred)\n",
    "\n",
    "fig=plt.figure(figsize=(12,8))\n",
    "sns.heatmap(cm, annot=True)\n",
    "plt.title(\"Confusion Matrix\")\n"
   ]
  },
  {
   "cell_type": "code",
   "execution_count": 39,
   "id": "75b63e68",
   "metadata": {},
   "outputs": [],
   "source": [
    "def spam_detection (model,message):\n",
    "    for sentences in message:\n",
    "        sentences=nltk.sent_tokenize(message)\n",
    "        for sentence in sentences:\n",
    "            words=re.sub(\"[^a-zA-Z0-9]\",\" \",sentence)\n",
    "            if words not in set(stopwords.words('english')):\n",
    "                word=nltk.word_tokenize(words)\n",
    "                word=\" \".join(word)         \n",
    "    oneHot=[one_hot(word,n=vocab_size)]  \n",
    "    text=pad_sequences(oneHot,maxlen=sentence_len,padding=\"pre\")\n",
    "    predict=model.predict(text)\n",
    "    \n",
    "    if predict>0.5:\n",
    "        print(\"It is a spam\")\n",
    "    else:\n",
    "        print(\"It is not a spam\")"
   ]
  },
  {
   "cell_type": "code",
   "execution_count": 40,
   "id": "32cb251b",
   "metadata": {},
   "outputs": [
    {
     "name": "stdout",
     "output_type": "stream",
     "text": [
      "1/1 [==============================] - 0s 62ms/step\n",
      "It is not a spam\n"
     ]
    }
   ],
   "source": [
    "message1 = \"Hi Zoro, do you want to listen to business seminar.\"\n",
    "spam_detection(model,message1)"
   ]
  },
  {
   "cell_type": "code",
   "execution_count": 41,
   "id": "08293cef",
   "metadata": {},
   "outputs": [
    {
     "name": "stdout",
     "output_type": "stream",
     "text": [
      "1/1 [==============================] - 0s 63ms/step\n",
      "It is a spam\n"
     ]
    }
   ],
   "source": [
    "message2 = \"This is to inform you had won a lottery and the subscription will end in a week so call us.\"\n",
    "spam_detection(model,message2)"
   ]
  },
  {
   "cell_type": "code",
   "execution_count": 42,
   "id": "c5c64ca9",
   "metadata": {},
   "outputs": [
    {
     "name": "stdout",
     "output_type": "stream",
     "text": [
      "1/1 [==============================] - 0s 63ms/step\n",
      "It is a spam\n"
     ]
    }
   ],
   "source": [
    "message3 = \"Wow! I can't believe crypto mining is real i just invested $100 and got back $10000 in just 2 hours.\"\n",
    "spam_detection(model,message3)"
   ]
  },
  {
   "cell_type": "code",
   "execution_count": null,
   "id": "523a8c56",
   "metadata": {},
   "outputs": [],
   "source": []
  }
 ],
 "metadata": {
  "kernelspec": {
   "display_name": "Python 3 (ipykernel)",
   "language": "python",
   "name": "python3"
  },
  "language_info": {
   "codemirror_mode": {
    "name": "ipython",
    "version": 3
   },
   "file_extension": ".py",
   "mimetype": "text/x-python",
   "name": "python",
   "nbconvert_exporter": "python",
   "pygments_lexer": "ipython3",
   "version": "3.7.13"
  }
 },
 "nbformat": 4,
 "nbformat_minor": 5
}
